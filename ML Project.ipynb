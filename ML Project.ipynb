{
 "cells": [
  {
   "cell_type": "code",
   "execution_count": 1,
   "metadata": {
    "collapsed": false,
    "deletable": true,
    "editable": true
   },
   "outputs": [],
   "source": [
    "# All initializations, to be run every time the notebook is opened\n",
    "# Imports\n",
    "from sklearn.ensemble import RandomForestClassifier as rfc\n",
    "import json, pickle\n",
    "import sys"
   ]
  },
  {
   "cell_type": "code",
   "execution_count": 2,
   "metadata": {
    "collapsed": false,
    "deletable": true,
    "editable": true
   },
   "outputs": [
    {
     "name": "stdout",
     "output_type": "stream",
     "text": [
      "6343\n"
     ]
    }
   ],
   "source": [
    "history = json.load(open(\"history.json\", \"r\"))[::-1]\n",
    "# Keys are typedCount, title, url, lastVisitTime, visitCount, id\n",
    "# Import for sentiment analysis\n",
    "# Building a dataset\n",
    "titles = {}\n",
    "for i in range(len(history)):\n",
    "    titles[i] = history[i]['title']\n",
    "print len(titles)"
   ]
  },
  {
   "cell_type": "code",
   "execution_count": 5,
   "metadata": {
    "collapsed": false,
    "deletable": true,
    "editable": true,
    "scrolled": true
   },
   "outputs": [
    {
     "name": "stderr",
     "output_type": "stream",
     "text": [
      "INFO:lda:n_documents: 6343\n",
      "INFO:lda:vocab_size: 4448\n",
      "INFO:lda:n_words: 25007\n",
      "INFO:lda:n_topics: 20\n",
      "INFO:lda:n_iter: 1500\n",
      "WARNING:lda:all zero row in document-term matrix found\n",
      "INFO:lda:<0> log likelihood: -302829\n",
      "INFO:lda:<10> log likelihood: -186922\n",
      "INFO:lda:<20> log likelihood: -177695\n",
      "INFO:lda:<30> log likelihood: -174380\n",
      "INFO:lda:<40> log likelihood: -172768\n",
      "INFO:lda:<50> log likelihood: -171892\n",
      "INFO:lda:<60> log likelihood: -171333\n",
      "INFO:lda:<70> log likelihood: -170855\n",
      "INFO:lda:<80> log likelihood: -170710\n",
      "INFO:lda:<90> log likelihood: -170555\n",
      "INFO:lda:<100> log likelihood: -170441\n",
      "INFO:lda:<110> log likelihood: -170370\n",
      "INFO:lda:<120> log likelihood: -170251\n",
      "INFO:lda:<130> log likelihood: -169927\n",
      "INFO:lda:<140> log likelihood: -169640\n",
      "INFO:lda:<150> log likelihood: -169507\n",
      "INFO:lda:<160> log likelihood: -169447\n",
      "INFO:lda:<170> log likelihood: -169536\n",
      "INFO:lda:<180> log likelihood: -169785\n",
      "INFO:lda:<190> log likelihood: -169535\n",
      "INFO:lda:<200> log likelihood: -169484\n",
      "INFO:lda:<210> log likelihood: -169318\n",
      "INFO:lda:<220> log likelihood: -169630\n",
      "INFO:lda:<230> log likelihood: -169060\n",
      "INFO:lda:<240> log likelihood: -169080\n",
      "INFO:lda:<250> log likelihood: -169166\n",
      "INFO:lda:<260> log likelihood: -169124\n",
      "INFO:lda:<270> log likelihood: -169128\n",
      "INFO:lda:<280> log likelihood: -168931\n",
      "INFO:lda:<290> log likelihood: -168921\n",
      "INFO:lda:<300> log likelihood: -168999\n",
      "INFO:lda:<310> log likelihood: -168812\n",
      "INFO:lda:<320> log likelihood: -169080\n",
      "INFO:lda:<330> log likelihood: -168727\n",
      "INFO:lda:<340> log likelihood: -168599\n",
      "INFO:lda:<350> log likelihood: -168448\n",
      "INFO:lda:<360> log likelihood: -168874\n",
      "INFO:lda:<370> log likelihood: -168589\n",
      "INFO:lda:<380> log likelihood: -168931\n",
      "INFO:lda:<390> log likelihood: -168891\n",
      "INFO:lda:<400> log likelihood: -168791\n",
      "INFO:lda:<410> log likelihood: -168728\n",
      "INFO:lda:<420> log likelihood: -168621\n",
      "INFO:lda:<430> log likelihood: -168720\n",
      "INFO:lda:<440> log likelihood: -168768\n",
      "INFO:lda:<450> log likelihood: -168673\n",
      "INFO:lda:<460> log likelihood: -168635\n",
      "INFO:lda:<470> log likelihood: -168386\n",
      "INFO:lda:<480> log likelihood: -169126\n",
      "INFO:lda:<490> log likelihood: -168790\n",
      "INFO:lda:<500> log likelihood: -168756\n",
      "INFO:lda:<510> log likelihood: -168693\n",
      "INFO:lda:<520> log likelihood: -168649\n",
      "INFO:lda:<530> log likelihood: -168658\n",
      "INFO:lda:<540> log likelihood: -168505\n",
      "INFO:lda:<550> log likelihood: -168806\n",
      "INFO:lda:<560> log likelihood: -168569\n",
      "INFO:lda:<570> log likelihood: -168963\n",
      "INFO:lda:<580> log likelihood: -168505\n",
      "INFO:lda:<590> log likelihood: -168867\n",
      "INFO:lda:<600> log likelihood: -168450\n",
      "INFO:lda:<610> log likelihood: -168728\n",
      "INFO:lda:<620> log likelihood: -168690\n",
      "INFO:lda:<630> log likelihood: -168541\n",
      "INFO:lda:<640> log likelihood: -168812\n",
      "INFO:lda:<650> log likelihood: -168591\n",
      "INFO:lda:<660> log likelihood: -168689\n",
      "INFO:lda:<670> log likelihood: -168405\n",
      "INFO:lda:<680> log likelihood: -168333\n",
      "INFO:lda:<690> log likelihood: -168320\n",
      "INFO:lda:<700> log likelihood: -168671\n",
      "INFO:lda:<710> log likelihood: -168145\n",
      "INFO:lda:<720> log likelihood: -168399\n",
      "INFO:lda:<730> log likelihood: -168100\n",
      "INFO:lda:<740> log likelihood: -168625\n",
      "INFO:lda:<750> log likelihood: -168480\n",
      "INFO:lda:<760> log likelihood: -168285\n",
      "INFO:lda:<770> log likelihood: -168296\n",
      "INFO:lda:<780> log likelihood: -168490\n",
      "INFO:lda:<790> log likelihood: -168464\n",
      "INFO:lda:<800> log likelihood: -168326\n",
      "INFO:lda:<810> log likelihood: -168275\n",
      "INFO:lda:<820> log likelihood: -168496\n",
      "INFO:lda:<830> log likelihood: -168191\n",
      "INFO:lda:<840> log likelihood: -168231\n",
      "INFO:lda:<850> log likelihood: -168223\n",
      "INFO:lda:<860> log likelihood: -168220\n",
      "INFO:lda:<870> log likelihood: -168162\n",
      "INFO:lda:<880> log likelihood: -168448\n",
      "INFO:lda:<890> log likelihood: -168516\n",
      "INFO:lda:<900> log likelihood: -168358\n",
      "INFO:lda:<910> log likelihood: -168267\n",
      "INFO:lda:<920> log likelihood: -168520\n",
      "INFO:lda:<930> log likelihood: -168339\n",
      "INFO:lda:<940> log likelihood: -168482\n",
      "INFO:lda:<950> log likelihood: -168277\n",
      "INFO:lda:<960> log likelihood: -168431\n",
      "INFO:lda:<970> log likelihood: -168155\n",
      "INFO:lda:<980> log likelihood: -168437\n",
      "INFO:lda:<990> log likelihood: -168549\n",
      "INFO:lda:<1000> log likelihood: -168191\n",
      "INFO:lda:<1010> log likelihood: -168350\n",
      "INFO:lda:<1020> log likelihood: -168385\n",
      "INFO:lda:<1030> log likelihood: -168424\n",
      "INFO:lda:<1040> log likelihood: -168293\n",
      "INFO:lda:<1050> log likelihood: -168337\n",
      "INFO:lda:<1060> log likelihood: -168299\n",
      "INFO:lda:<1070> log likelihood: -168209\n",
      "INFO:lda:<1080> log likelihood: -168435\n",
      "INFO:lda:<1090> log likelihood: -168361\n",
      "INFO:lda:<1100> log likelihood: -168046\n",
      "INFO:lda:<1110> log likelihood: -168448\n",
      "INFO:lda:<1120> log likelihood: -168106\n",
      "INFO:lda:<1130> log likelihood: -168289\n",
      "INFO:lda:<1140> log likelihood: -168159\n",
      "INFO:lda:<1150> log likelihood: -168177\n",
      "INFO:lda:<1160> log likelihood: -168152\n",
      "INFO:lda:<1170> log likelihood: -168060\n",
      "INFO:lda:<1180> log likelihood: -168059\n",
      "INFO:lda:<1190> log likelihood: -168564\n",
      "INFO:lda:<1200> log likelihood: -168060\n",
      "INFO:lda:<1210> log likelihood: -168062\n",
      "INFO:lda:<1220> log likelihood: -168471\n",
      "INFO:lda:<1230> log likelihood: -168102\n",
      "INFO:lda:<1240> log likelihood: -168163\n",
      "INFO:lda:<1250> log likelihood: -167960\n",
      "INFO:lda:<1260> log likelihood: -168052\n",
      "INFO:lda:<1270> log likelihood: -168133\n",
      "INFO:lda:<1280> log likelihood: -168217\n",
      "INFO:lda:<1290> log likelihood: -168150\n",
      "INFO:lda:<1300> log likelihood: -168169\n",
      "INFO:lda:<1310> log likelihood: -168527\n",
      "INFO:lda:<1320> log likelihood: -167880\n",
      "INFO:lda:<1330> log likelihood: -168243\n",
      "INFO:lda:<1340> log likelihood: -168119\n",
      "INFO:lda:<1350> log likelihood: -168259\n",
      "INFO:lda:<1360> log likelihood: -168334\n",
      "INFO:lda:<1370> log likelihood: -168144\n",
      "INFO:lda:<1380> log likelihood: -168244\n",
      "INFO:lda:<1390> log likelihood: -167992\n",
      "INFO:lda:<1400> log likelihood: -167899\n",
      "INFO:lda:<1410> log likelihood: -168016\n",
      "INFO:lda:<1420> log likelihood: -167982\n",
      "INFO:lda:<1430> log likelihood: -168041\n",
      "INFO:lda:<1440> log likelihood: -168133\n",
      "INFO:lda:<1450> log likelihood: -168344\n",
      "INFO:lda:<1460> log likelihood: -168129\n",
      "INFO:lda:<1470> log likelihood: -167784\n",
      "INFO:lda:<1480> log likelihood: -168074\n",
      "INFO:lda:<1490> log likelihood: -167860\n",
      "INFO:lda:<1499> log likelihood: -168113\n"
     ]
    },
    {
     "name": "stdout",
     "output_type": "stream",
     "text": [
      "[array([u'watch', u'free', u'online', u'series', u'123movies'], \n",
      "      dtype='<U144'), array([u'jobs', u'com', u'search', u'linkedin', u'25'], \n",
      "      dtype='<U144'), array([u'google', u'search', u'careers', u'results', u'api'], \n",
      "      dtype='<U144'), array([u'amazon', u'com', u'ipad', u'apple', u'windows'], \n",
      "      dtype='<U144'), array([u'manager', u'product', u'associate', u'job', u'linkedin'], \n",
      "      dtype='<U144'), array([u'cmsc', u'671', u'grade', u'principles', u'assignment'], \n",
      "      dtype='<U144'), array([u'gmail', u'tejas', u'sathe', u'com', u'jet'], \n",
      "      dtype='<U144'), array([u'web', u'chrome', u'html', u'authentication', u'security'], \n",
      "      dtype='<U144'), array([u'engineer', u'software', u'new', u'job', u'careers'], \n",
      "      dtype='<U144'), array([u'google', u'image', u'com', u'jpg', u'2016'], \n",
      "      dtype='<U144'), array([u'django', u'admin', u'site', u'change', u'youtube'], \n",
      "      dtype='<U144'), array([u'careers', u'slack', u'center', u'sign', u'account'], \n",
      "      dtype='<U144'), array([u'youtube', u'card', u'tutorial', u'magic', u'forum'], \n",
      "      dtype='<U144'), array([u'umbc', u'mail', u'edu', u'teja4', u'thank'], \n",
      "      dtype='<U144'), array([u'fallout', u'wiki', u'new', u'wikia', u'vegas'], \n",
      "      dtype='<U144'), array([u'youtube', u'vs', u'hot', u'log', u'naruto'], \n",
      "      dtype='<U144'), array([u'home', u'time', u'quora', u'page', u'memory'], \n",
      "      dtype='<U144'), array([u'stack', u'overflow', u'python', u'string', u'java'], \n",
      "      dtype='<U144'), array([u'matlab', u'login', u'bitbucket', u'account', u'facebook'], \n",
      "      dtype='<U144'), array([u'new', u'vegas', u'fallout', u'gamefaqs', u'message'], \n",
      "      dtype='<U144')]\n"
     ]
    }
   ],
   "source": [
    "import lda\n",
    "import numpy as np\n",
    "from sklearn.feature_extraction.text import CountVectorizer\n",
    "tf = CountVectorizer(stop_words='english')\n",
    "tfs1 = tf.fit_transform(titles.values())\n",
    "\n",
    "model = lda.LDA(n_topics=20, n_iter=1500, random_state=1)\n",
    "\n",
    "model.fit_transform(tfs1)\n",
    "\n",
    "topic_word = model.topic_word_\n",
    "\n",
    "vocab = tf.get_feature_names()\n",
    "\n",
    "n = 5 # 5 words for each topic\n",
    "topic_word = model.topic_word_ \n",
    "topics = []\n",
    "for i, topic_dist in enumerate(topic_word):\n",
    "    topics.append(np.array(vocab)[np.argsort(topic_dist)][:-(n+1):-1])\n",
    "\n",
    "print topics"
   ]
  },
  {
   "cell_type": "code",
   "execution_count": 6,
   "metadata": {
    "collapsed": false,
    "deletable": true,
    "editable": true
   },
   "outputs": [],
   "source": [
    "# Classify topics into social, educational, entertainment, finance, other\n",
    "# Social: pleasure +2 activity -1\n",
    "# Educational: pleasure -1 activity +2\n",
    "# Entertainment: pleasure +1 activity +1\n",
    "# Shopping: pleasure +2 activity +2\n",
    "\n",
    "categories = {\"social\": ['grade', 'teja4', 'linkedin', 'sign', 'tejas', 'edu', 'engineer', 'thank',\n",
    "                         'jet', 'mail', 'gmail', 'careers', 'jobs', '671', 'job', 'sathe', 'new',\n",
    "                         'account', 'cmsc', 'center', 'search', 'slack', 'facebook', 'umbc', 'com',\n",
    "                         'software'], # category 1\n",
    "              \"educational\": ['wiki', 'google', 'series', 'image', 'jpg', 'vs', 'tutorial', 'log', 'hot', 'online',\n",
    "                              'web', 'chrome', 'html', 'authentication', 'security',\n",
    "                              'stack', u'overflow', u'python', u'string', u'java',\n",
    "                              'home', 'time', 'quora', 'page', 'memory',\n",
    "                              'matlab', 'login', 'bitbucket', 'account', 'overflow',\n",
    "                              'stack', 'bitbucket', 'time', 'login',\n",
    "                              'security', 'page'], # category 2\n",
    "              \"entertainment\": ['image', 'jpg', 'vs', 'online',\n",
    "                                'new', 'watch', '123movies', 'vegas', 'free', 'fallout', 'naruto', 'card', 'magic',\n",
    "                                'forum', 'wikia', 'youtube', 'gamefaqs', 'com'], # category 3\n",
    "              \"shopping\": ['amazon', 'com', 'ipad', 'apple', 'windows']}"
   ]
  },
  {
   "cell_type": "code",
   "execution_count": 11,
   "metadata": {
    "collapsed": false,
    "deletable": true,
    "editable": true
   },
   "outputs": [],
   "source": [
    "cats = categories.keys()\n",
    "pleasure = 0\n",
    "activity = 0\n",
    "from random import randint\n",
    "for item in history:\n",
    "    title = item['title'].split()\n",
    "    best_cat = 2\n",
    "    best_count = 0\n",
    "    for i in range(len(cats)):\n",
    "        length = len(set(title).intersection(categories[cats[i]]))\n",
    "        if length > best_count:\n",
    "            best_cat = i+1\n",
    "            best_count = length\n",
    "    item[\"category\"] = best_cat"
   ]
  },
  {
   "cell_type": "code",
   "execution_count": 12,
   "metadata": {
    "collapsed": false,
    "deletable": true,
    "editable": true
   },
   "outputs": [],
   "source": [
    "import json\n",
    "json.dump(history, open(\"dataset.json\", \"w\"))"
   ]
  },
  {
   "cell_type": "code",
   "execution_count": 1,
   "metadata": {
    "collapsed": false,
    "deletable": true,
    "editable": true
   },
   "outputs": [],
   "source": [
    "from json import load\n",
    "history = load(open(\"dataset.json\", \"r\"))\n",
    "X, Y = [], []\n",
    "for item in history:\n",
    "    X.append(item['lastVisitTime'])\n",
    "    Y.append(item['category'])"
   ]
  },
  {
   "cell_type": "code",
   "execution_count": 2,
   "metadata": {
    "collapsed": false,
    "deletable": true,
    "editable": true
   },
   "outputs": [
    {
     "data": {
      "text/plain": [
       "KNeighborsClassifier(algorithm='auto', leaf_size=30, metric='minkowski',\n",
       "           metric_params=None, n_jobs=1, n_neighbors=3, p=2,\n",
       "           weights='uniform')"
      ]
     },
     "execution_count": 2,
     "metadata": {},
     "output_type": "execute_result"
    }
   ],
   "source": [
    "from sklearn.neighbors import KNeighborsClassifier\n",
    "from pandas import DataFrame\n",
    "knn = KNeighborsClassifier(n_neighbors=3)\n",
    "knn.fit(DataFrame(data=X), Y)"
   ]
  },
  {
   "cell_type": "code",
   "execution_count": 6,
   "metadata": {
    "collapsed": false,
    "deletable": true,
    "editable": true
   },
   "outputs": [],
   "source": [
    "from pickle import dump\n",
    "dump(knn, open(\"knn.pickle\", \"wb\"))"
   ]
  },
  {
   "cell_type": "code",
   "execution_count": null,
   "metadata": {
    "collapsed": true,
    "deletable": true,
    "editable": true
   },
   "outputs": [],
   "source": []
  }
 ],
 "metadata": {
  "anaconda-cloud": {},
  "kernelspec": {
   "display_name": "Python 2",
   "language": "python",
   "name": "python2"
  },
  "language_info": {
   "codemirror_mode": {
    "name": "ipython",
    "version": 2
   },
   "file_extension": ".py",
   "mimetype": "text/x-python",
   "name": "python",
   "nbconvert_exporter": "python",
   "pygments_lexer": "ipython2",
   "version": "2.7.12"
  }
 },
 "nbformat": 4,
 "nbformat_minor": 1
}
